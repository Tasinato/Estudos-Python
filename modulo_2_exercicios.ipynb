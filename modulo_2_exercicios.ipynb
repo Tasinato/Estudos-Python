{
  "nbformat": 4,
  "nbformat_minor": 0,
  "metadata": {
    "colab": {
      "provenance": [],
      "toc_visible": true,
      "include_colab_link": true
    },
    "kernelspec": {
      "name": "python3",
      "display_name": "Python 3"
    }
  },
  "cells": [
    {
      "cell_type": "markdown",
      "metadata": {
        "id": "view-in-github",
        "colab_type": "text"
      },
      "source": [
        "<a href=\"https://colab.research.google.com/github/Tasinato/Estudos-Python/blob/main/modulo_2_exercicios.ipynb\" target=\"_parent\"><img src=\"https://colab.research.google.com/assets/colab-badge.svg\" alt=\"Open In Colab\"/></a>"
      ]
    },
    {
      "cell_type": "markdown",
      "metadata": {
        "id": "KJqp9AANOCtf"
      },
      "source": [
        "<img src=\"https://raw.githubusercontent.com/andre-marcos-perez/ebac-course-utils/main/media/logo/newebac_logo_black_half.png\" alt=\"ebac-logo\">\n",
        "\n",
        "---\n",
        "\n",
        "# **Módulo 02** | Python: Estruturas de Dados\n",
        "Caderno de **Exercícios**<br> \n",
        "Professor [André Perez](https://www.linkedin.com/in/andremarcosperez/)\n",
        "\n",
        "---"
      ]
    },
    {
      "cell_type": "markdown",
      "metadata": {
        "id": "d9jDtUbDOE1-"
      },
      "source": [
        "# **Tópicos**\n",
        "\n",
        "<ol type=\"1\">\n",
        "  <li>Listas;</li>\n",
        "  <li>Conjuntos;</li>\n",
        "  <li>Dicionários.</li>\n",
        "</ol>"
      ]
    },
    {
      "cell_type": "markdown",
      "metadata": {
        "id": "SmoHgt-lwkpD"
      },
      "source": [
        "---"
      ]
    },
    {
      "cell_type": "markdown",
      "metadata": {
        "id": "GABI6OW8OfQ2"
      },
      "source": [
        "# **Exercícios**"
      ]
    },
    {
      "cell_type": "markdown",
      "metadata": {
        "id": "muD1vxozykSC"
      },
      "source": [
        "## 1\\. Listas"
      ]
    },
    {
      "cell_type": "markdown",
      "metadata": {
        "id": "ahrFfCuBxJKs"
      },
      "source": [
        "Criei uma lista chamada `filmes` com o nome dos 10 primeiros filmes mais bem avaliados no site no [IMDB](https://www.imdb.com/chart/top/). Imprima o resultado."
      ]
    },
    {
      "cell_type": "code",
      "metadata": {
        "id": "OgL6Hv3bzOHI"
      },
      "source": [
        "filmes = ['Um Sonho de Liberdade (1994)','O Poderoso Chefão (1972)',\n",
        "       'Batman: O Cavaleiro das Trevas (2008)','O Poderoso Chefão II (1974)',\n",
        "        '12 Homens e uma Sentença (1957)','A Lista de Schindler (1993)',\n",
        "        'O Senhor dos Anéis: O Retorno do Rei (2003)','Pulp Fiction: Tempo de Violência (1994)',\n",
        "        'O Senhor dos Anéis: A Sociedade do Anel (2001)','Três Homens em Conflito (1966)']"
      ],
      "execution_count": null,
      "outputs": []
    },
    {
      "cell_type": "markdown",
      "metadata": {
        "id": "KI9zQRT2xa7m"
      },
      "source": [
        "Simule a movimentação do *ranking*. Utilize os métodos `insert` e `pop` para trocar a posição do primeiro e do segundo filme da lista. Imprima o resultado.\n",
        "\n"
      ]
    },
    {
      "cell_type": "code",
      "metadata": {
        "id": "zX3mA3_GzrXH",
        "colab": {
          "base_uri": "https://localhost:8080/"
        },
        "outputId": "87f4ecbe-d0d4-403d-fa9e-6178e9848aab"
      },
      "source": [
        "print(filmes)"
      ],
      "execution_count": null,
      "outputs": [
        {
          "output_type": "stream",
          "name": "stdout",
          "text": [
            "['Um Sonho de Liberdade (1994)', 'O Poderoso Chefão (1972)', 'Batman: O Cavaleiro das Trevas (2008)', 'O Poderoso Chefão II (1974)', '12 Homens e uma Sentença (1957)', 'A Lista de Schindler (1993)', 'O Senhor dos Anéis: O Retorno do Rei (2003)', 'Pulp Fiction: Tempo de Violência (1994)', 'O Senhor dos Anéis: A Sociedade do Anel (2001)', 'Três Homens em Conflito (1966)', 'Três Homens em Conflito (1966)', 'O Senhor dos Anéis: A Sociedade do Anel (2001)', 'Pulp Fiction: Tempo de Violência (1994)', 'Três Homens em Conflito (1966)', 'O Senhor dos Anéis: A Sociedade do Anel (2001)', 'Pulp Fiction: Tempo de Violência (1994)']\n"
          ]
        }
      ]
    },
    {
      "cell_type": "markdown",
      "metadata": {
        "id": "zMN1Q3jdwoJm"
      },
      "source": [
        "---"
      ]
    },
    {
      "cell_type": "markdown",
      "metadata": {
        "id": "lxa5L6uF0ZJE"
      },
      "source": [
        "## 2\\. Conjuntos"
      ]
    },
    {
      "cell_type": "markdown",
      "metadata": {
        "id": "9JahS2Kj0d5u"
      },
      "source": [
        "Aconteceu um erro no seu *ranking*. Simule a duplicação dos três últimos filmes da lista. Imprima o resultado."
      ]
    },
    {
      "cell_type": "markdown",
      "metadata": {
        "id": "suxTfCJB6ZiX"
      },
      "source": [
        "Utiliza a conversão `set` e `list` para remover os valores duplicados. Imprima o resultado. "
      ]
    },
    {
      "cell_type": "code",
      "metadata": {
        "id": "BnjnLBNC6PGe",
        "colab": {
          "base_uri": "https://localhost:8080/"
        },
        "outputId": "6023fae3-204d-456d-b27c-2addbee676e8"
      },
      "source": [
        " filmes1 =['Três Homens em Conflito (1966)'\n",
        ",'O Senhor dos Anéis: A Sociedade do Anel (2001)'\n",
        ", 'Pulp Fiction: Tempo de Violência (1994)']\n",
        "filmes = filmes + filmes1\n",
        "0\n",
        "print(type(filmes))\n",
        "print(filmes)\n",
        "print(len(filmes))"
      ],
      "execution_count": null,
      "outputs": [
        {
          "output_type": "stream",
          "name": "stdout",
          "text": [
            "<class 'list'>\n",
            "['Um Sonho de Liberdade (1994)', 'O Poderoso Chefão (1972)', 'Batman: O Cavaleiro das Trevas (2008)', 'O Poderoso Chefão II (1974)', '12 Homens e uma Sentença (1957)', 'A Lista de Schindler (1993)', 'O Senhor dos Anéis: O Retorno do Rei (2003)', 'Pulp Fiction: Tempo de Violência (1994)', 'O Senhor dos Anéis: A Sociedade do Anel (2001)', 'Três Homens em Conflito (1966)', 'Três Homens em Conflito (1966)', 'O Senhor dos Anéis: A Sociedade do Anel (2001)', 'Pulp Fiction: Tempo de Violência (1994)']\n",
            "13\n"
          ]
        }
      ]
    },
    {
      "cell_type": "code",
      "metadata": {
        "id": "ZvUGN-0n6joM",
        "colab": {
          "base_uri": "https://localhost:8080/"
        },
        "outputId": "156f651c-39a9-4706-c5c5-02df2e159321"
      },
      "source": [
        "\n",
        "filmes = set(filmes)\n",
        "\n",
        "print(filmes)\n",
        "print(len(filmes))\n",
        "print(type(filmes))"
      ],
      "execution_count": null,
      "outputs": [
        {
          "output_type": "stream",
          "name": "stdout",
          "text": [
            "{'O Senhor dos Anéis: O Retorno do Rei (2003)', 'Pulp Fiction: Tempo de Violência (1994)', 'O Poderoso Chefão II (1974)', 'Um Sonho de Liberdade (1994)', 'A Lista de Schindler (1993)', 'Três Homens em Conflito (1966)', 'O Senhor dos Anéis: A Sociedade do Anel (2001)', 'Batman: O Cavaleiro das Trevas (2008)', 'O Poderoso Chefão (1972)', '12 Homens e uma Sentença (1957)'}\n",
            "10\n",
            "<class 'set'>\n"
          ]
        }
      ]
    },
    {
      "cell_type": "markdown",
      "metadata": {
        "id": "ShkK35eQ6pAM"
      },
      "source": [
        "---"
      ]
    },
    {
      "cell_type": "markdown",
      "metadata": {
        "id": "EL_FzmxL6rTv"
      },
      "source": [
        "## 3\\. Dicionários"
      ]
    },
    {
      "cell_type": "markdown",
      "metadata": {
        "id": "i8l0gFqRCpfT"
      },
      "source": [
        "Repita os exercícios da parte 1 (listas). Os elementos da lista `filmes` devem ser dicionários no seguinte formato: `{'nome': <nome-do-filme>, 'ano': <ano do filme>}, 'sinopse': <sinopse do filme>}`. "
      ]
    },
    {
      "cell_type": "code",
      "source": [
        "\n",
        "# {'nome': <nome-do-filme>, 'ano': <ano do filme>}, 'sinopse': <sinopse do filme>}.\n",
        "\n",
        "filmes =[]\n",
        "\n",
        "filmesDic = {}\n",
        "\n",
        "filmesDic  = {'nome': 'Um Sonho de Liberdade', 'ano': 1994 , 'sinopse': \"Dois homens presos se reúnem ao longo de vários anos, encontrando consolo e eventual redenção através de atos de decência comum.\"}\n",
        "filmes.append(filmesDic)\n",
        "\n",
        "filmesDic ={'nome': 'O Poderoso Chefão', 'ano': 1972, 'sinopse': 'O patriarca idoso de uma dinastia do crime organizado transfere o controle de seu império clandestino para seu filho relutante.'}\n",
        "filmes.append(filmesDic)\n",
        "\n",
        "filmesDic = {'nome': 'Batman: O Cavaleiro das Trevas', 'ano': 2008, 'sinopse': 'Quando a ameaça conhecida como O Coringa surge de seu passado, causa estragos e caos nas pessoas de Gotham. O Cavaleiro das Trevas deve aceitar um dos maiores testes para combater '}\n",
        "filmes.append(filmesDic)\n",
        "\n",
        "filmesDic = {'nome': 'O Poderoso Chefão II', 'ano': 1974, 'sinopse': 'Em 1950, Michael Corleone, agora à frente da família, tenta expandir o negócio do crime a Las Vegas, Los Angeles e Cuba. Paralelamente, é revelada a história de Vito Corleone,'}\n",
        "filmes.append(filmesDic)\n",
        "\n",
        "filmesDic = {'nome': '12 Homens e uma Sentença', 'ano': 1957, 'sinopse': 'Um jurado que se aposenta tenta evitar um erro judicial forçando seus colegas a reconsiderarem as evidências.'}\n",
        "filmes.append(filmesDic)\n",
        "\n",
        "filmesDic ={'nome': 'A Lista de Schindler', 'ano':1993, 'sinopse': \"The incredible true story of the enigmatic and opportunistic businessman Oskar Schindler, who saved the lives of more than 1,100 Jews during the Holocaust. Schindler's List chronicles the trials and triumph of one man who made a difference and the tribulations of those who survived one of the darkest chapters in human history because of his actions.—Spiricom\"}\n",
        "filmes.append(filmesDic)\n",
        "filmesDic = {'nome': 'O Senhor dos Anéis: O Retorno do Rei', 'ano': 2003, 'sinopse': \"Gandalf e Aragorn lideram o Mundo dos Homens contra o exército de Sauron para desviar o olhar de Frodo e Sam quando eles se aproximam á Montanha da Perdição com o Um Anel.\"}\n",
        "filmes.append(filmesDic)\n",
        "filmesDic ={'nome': \"Pulp Fiction: Tempo de Violência\", 'ano': 1994, 'sinopse': 'As vidas de dois assassinos da máfia, um boxeador, um gângster e sua esposa, e um par de bandidos se entrelaçam em quatro histórias de violência e redenção.'}\n",
        "filmes.append(filmesDic)\n",
        "filmesDic = {'nome': \"O Senhor dos Anéis: A Sociedade do Anel\", 'ano': 2002, 'sinopse': \"Um manso hobbit do Condado e oito companheiros partem em uma jornada para destruir o poderoso Um Anel e salvar a Terra-média das Trevas.\"}\n",
        "filmes.append(filmesDic)\n",
        "filmesDic = {'nome': \"10. Três Homens em Conflito\", 'ano': 1966, 'sinopse':\"Um impostor se junta com dois homens para encontrar fortuna num remoto cemitério.\"}\n",
        "filmes.append(filmesDic)\n",
        "\n",
        "\n",
        "print(filmesDic)\n",
        "\n",
        "print(filmes) # lista dicionarizada."
      ],
      "metadata": {
        "id": "2Xx5jzekkqp6",
        "colab": {
          "base_uri": "https://localhost:8080/"
        },
        "outputId": "6669d56f-b683-4b76-9028-af3c70cbc444"
      },
      "execution_count": 108,
      "outputs": [
        {
          "output_type": "stream",
          "name": "stdout",
          "text": [
            "{'nome': '10. Três Homens em Conflito', 'ano': 1966, 'sinopse': 'Um impostor se junta com dois homens para encontrar fortuna num remoto cemitério.'}\n",
            "[{'nome': 'Um Sonho de Liberdade', 'ano': 1994, 'sinopse': 'Dois homens presos se reúnem ao longo de vários anos, encontrando consolo e eventual redenção através de atos de decência comum.'}, {'nome': 'O Poderoso Chefão', 'ano': 1972, 'sinopse': 'O patriarca idoso de uma dinastia do crime organizado transfere o controle de seu império clandestino para seu filho relutante.'}, {'nome': 'Batman: O Cavaleiro das Trevas', 'ano': 2008, 'sinopse': 'Quando a ameaça conhecida como O Coringa surge de seu passado, causa estragos e caos nas pessoas de Gotham. O Cavaleiro das Trevas deve aceitar um dos maiores testes para combater '}, {'nome': 'O Poderoso Chefão II', 'ano': 1974, 'sinopse': 'Em 1950, Michael Corleone, agora à frente da família, tenta expandir o negócio do crime a Las Vegas, Los Angeles e Cuba. Paralelamente, é revelada a história de Vito Corleone,'}, {'nome': '12 Homens e uma Sentença', 'ano': 1957, 'sinopse': 'Um jurado que se aposenta tenta evitar um erro judicial forçando seus colegas a reconsiderarem as evidências.'}, {'nome': 'A Lista de Schindler', 'ano': 1993, 'sinopse': \"The incredible true story of the enigmatic and opportunistic businessman Oskar Schindler, who saved the lives of more than 1,100 Jews during the Holocaust. Schindler's List chronicles the trials and triumph of one man who made a difference and the tribulations of those who survived one of the darkest chapters in human history because of his actions.—Spiricom\"}, {'nome': 'O Senhor dos Anéis: O Retorno do Rei', 'ano': 2003, 'sinopse': 'Gandalf e Aragorn lideram o Mundo dos Homens contra o exército de Sauron para desviar o olhar de Frodo e Sam quando eles se aproximam á Montanha da Perdição com o Um Anel.'}, {'nome': 'Pulp Fiction: Tempo de Violência', 'ano': 1994, 'sinopse': 'As vidas de dois assassinos da máfia, um boxeador, um gângster e sua esposa, e um par de bandidos se entrelaçam em quatro histórias de violência e redenção.'}, {'nome': 'O Senhor dos Anéis: A Sociedade do Anel', 'ano': 2002, 'sinopse': 'Um manso hobbit do Condado e oito companheiros partem em uma jornada para destruir o poderoso Um Anel e salvar a Terra-média das Trevas.'}, {'nome': '10. Três Homens em Conflito', 'ano': 1966, 'sinopse': 'Um impostor se junta com dois homens para encontrar fortuna num remoto cemitério.'}]\n"
          ]
        }
      ]
    }
  ]
}